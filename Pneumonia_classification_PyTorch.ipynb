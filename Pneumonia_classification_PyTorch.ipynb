{
  "nbformat": 4,
  "nbformat_minor": 0,
  "metadata": {
    "colab": {
      "provenance": [],
      "authorship_tag": "ABX9TyMnyyoCiQ6erfs3RnxOrsOw",
      "include_colab_link": true
    },
    "kernelspec": {
      "name": "python3",
      "display_name": "Python 3"
    },
    "language_info": {
      "name": "python"
    },
    "accelerator": "GPU",
    "gpuClass": "standard",
    "widgets": {
      "application/vnd.jupyter.widget-state+json": {
        "3b8d96113d1b4e0f8b0ed6185d756653": {
          "model_module": "@jupyter-widgets/controls",
          "model_name": "HBoxModel",
          "model_module_version": "1.5.0",
          "state": {
            "_dom_classes": [],
            "_model_module": "@jupyter-widgets/controls",
            "_model_module_version": "1.5.0",
            "_model_name": "HBoxModel",
            "_view_count": null,
            "_view_module": "@jupyter-widgets/controls",
            "_view_module_version": "1.5.0",
            "_view_name": "HBoxView",
            "box_style": "",
            "children": [
              "IPY_MODEL_99e6d0489af8437089493c60274ae47c",
              "IPY_MODEL_39277512f9c04d3095225111759e05bc",
              "IPY_MODEL_aec9ce03ca4344cda6bf2de6cf813a5b"
            ],
            "layout": "IPY_MODEL_db2edd78ee174970bfa3d862f9d44eac"
          }
        },
        "99e6d0489af8437089493c60274ae47c": {
          "model_module": "@jupyter-widgets/controls",
          "model_name": "HTMLModel",
          "model_module_version": "1.5.0",
          "state": {
            "_dom_classes": [],
            "_model_module": "@jupyter-widgets/controls",
            "_model_module_version": "1.5.0",
            "_model_name": "HTMLModel",
            "_view_count": null,
            "_view_module": "@jupyter-widgets/controls",
            "_view_module_version": "1.5.0",
            "_view_name": "HTMLView",
            "description": "",
            "description_tooltip": null,
            "layout": "IPY_MODEL_63bcc1db394241c4bc11f720695324b8",
            "placeholder": "​",
            "style": "IPY_MODEL_70999030b6324038bc849fbae0ed5f83",
            "value": "100%"
          }
        },
        "39277512f9c04d3095225111759e05bc": {
          "model_module": "@jupyter-widgets/controls",
          "model_name": "FloatProgressModel",
          "model_module_version": "1.5.0",
          "state": {
            "_dom_classes": [],
            "_model_module": "@jupyter-widgets/controls",
            "_model_module_version": "1.5.0",
            "_model_name": "FloatProgressModel",
            "_view_count": null,
            "_view_module": "@jupyter-widgets/controls",
            "_view_module_version": "1.5.0",
            "_view_name": "ProgressView",
            "bar_style": "success",
            "description": "",
            "description_tooltip": null,
            "layout": "IPY_MODEL_a18abdaeabb348c885532f1ca58d5c13",
            "max": 115730790,
            "min": 0,
            "orientation": "horizontal",
            "style": "IPY_MODEL_3a153198b680403b880bb80d6af5bee6",
            "value": 115730790
          }
        },
        "aec9ce03ca4344cda6bf2de6cf813a5b": {
          "model_module": "@jupyter-widgets/controls",
          "model_name": "HTMLModel",
          "model_module_version": "1.5.0",
          "state": {
            "_dom_classes": [],
            "_model_module": "@jupyter-widgets/controls",
            "_model_module_version": "1.5.0",
            "_model_name": "HTMLModel",
            "_view_count": null,
            "_view_module": "@jupyter-widgets/controls",
            "_view_module_version": "1.5.0",
            "_view_name": "HTMLView",
            "description": "",
            "description_tooltip": null,
            "layout": "IPY_MODEL_ff68489c85c843c1956885ab776ce71e",
            "placeholder": "​",
            "style": "IPY_MODEL_a73e4492037b4991bb5a1d76514e44f2",
            "value": " 110M/110M [00:07&lt;00:00, 53.1MB/s]"
          }
        },
        "db2edd78ee174970bfa3d862f9d44eac": {
          "model_module": "@jupyter-widgets/base",
          "model_name": "LayoutModel",
          "model_module_version": "1.2.0",
          "state": {
            "_model_module": "@jupyter-widgets/base",
            "_model_module_version": "1.2.0",
            "_model_name": "LayoutModel",
            "_view_count": null,
            "_view_module": "@jupyter-widgets/base",
            "_view_module_version": "1.2.0",
            "_view_name": "LayoutView",
            "align_content": null,
            "align_items": null,
            "align_self": null,
            "border": null,
            "bottom": null,
            "display": null,
            "flex": null,
            "flex_flow": null,
            "grid_area": null,
            "grid_auto_columns": null,
            "grid_auto_flow": null,
            "grid_auto_rows": null,
            "grid_column": null,
            "grid_gap": null,
            "grid_row": null,
            "grid_template_areas": null,
            "grid_template_columns": null,
            "grid_template_rows": null,
            "height": null,
            "justify_content": null,
            "justify_items": null,
            "left": null,
            "margin": null,
            "max_height": null,
            "max_width": null,
            "min_height": null,
            "min_width": null,
            "object_fit": null,
            "object_position": null,
            "order": null,
            "overflow": null,
            "overflow_x": null,
            "overflow_y": null,
            "padding": null,
            "right": null,
            "top": null,
            "visibility": null,
            "width": null
          }
        },
        "63bcc1db394241c4bc11f720695324b8": {
          "model_module": "@jupyter-widgets/base",
          "model_name": "LayoutModel",
          "model_module_version": "1.2.0",
          "state": {
            "_model_module": "@jupyter-widgets/base",
            "_model_module_version": "1.2.0",
            "_model_name": "LayoutModel",
            "_view_count": null,
            "_view_module": "@jupyter-widgets/base",
            "_view_module_version": "1.2.0",
            "_view_name": "LayoutView",
            "align_content": null,
            "align_items": null,
            "align_self": null,
            "border": null,
            "bottom": null,
            "display": null,
            "flex": null,
            "flex_flow": null,
            "grid_area": null,
            "grid_auto_columns": null,
            "grid_auto_flow": null,
            "grid_auto_rows": null,
            "grid_column": null,
            "grid_gap": null,
            "grid_row": null,
            "grid_template_areas": null,
            "grid_template_columns": null,
            "grid_template_rows": null,
            "height": null,
            "justify_content": null,
            "justify_items": null,
            "left": null,
            "margin": null,
            "max_height": null,
            "max_width": null,
            "min_height": null,
            "min_width": null,
            "object_fit": null,
            "object_position": null,
            "order": null,
            "overflow": null,
            "overflow_x": null,
            "overflow_y": null,
            "padding": null,
            "right": null,
            "top": null,
            "visibility": null,
            "width": null
          }
        },
        "70999030b6324038bc849fbae0ed5f83": {
          "model_module": "@jupyter-widgets/controls",
          "model_name": "DescriptionStyleModel",
          "model_module_version": "1.5.0",
          "state": {
            "_model_module": "@jupyter-widgets/controls",
            "_model_module_version": "1.5.0",
            "_model_name": "DescriptionStyleModel",
            "_view_count": null,
            "_view_module": "@jupyter-widgets/base",
            "_view_module_version": "1.2.0",
            "_view_name": "StyleView",
            "description_width": ""
          }
        },
        "a18abdaeabb348c885532f1ca58d5c13": {
          "model_module": "@jupyter-widgets/base",
          "model_name": "LayoutModel",
          "model_module_version": "1.2.0",
          "state": {
            "_model_module": "@jupyter-widgets/base",
            "_model_module_version": "1.2.0",
            "_model_name": "LayoutModel",
            "_view_count": null,
            "_view_module": "@jupyter-widgets/base",
            "_view_module_version": "1.2.0",
            "_view_name": "LayoutView",
            "align_content": null,
            "align_items": null,
            "align_self": null,
            "border": null,
            "bottom": null,
            "display": null,
            "flex": null,
            "flex_flow": null,
            "grid_area": null,
            "grid_auto_columns": null,
            "grid_auto_flow": null,
            "grid_auto_rows": null,
            "grid_column": null,
            "grid_gap": null,
            "grid_row": null,
            "grid_template_areas": null,
            "grid_template_columns": null,
            "grid_template_rows": null,
            "height": null,
            "justify_content": null,
            "justify_items": null,
            "left": null,
            "margin": null,
            "max_height": null,
            "max_width": null,
            "min_height": null,
            "min_width": null,
            "object_fit": null,
            "object_position": null,
            "order": null,
            "overflow": null,
            "overflow_x": null,
            "overflow_y": null,
            "padding": null,
            "right": null,
            "top": null,
            "visibility": null,
            "width": null
          }
        },
        "3a153198b680403b880bb80d6af5bee6": {
          "model_module": "@jupyter-widgets/controls",
          "model_name": "ProgressStyleModel",
          "model_module_version": "1.5.0",
          "state": {
            "_model_module": "@jupyter-widgets/controls",
            "_model_module_version": "1.5.0",
            "_model_name": "ProgressStyleModel",
            "_view_count": null,
            "_view_module": "@jupyter-widgets/base",
            "_view_module_version": "1.2.0",
            "_view_name": "StyleView",
            "bar_color": null,
            "description_width": ""
          }
        },
        "ff68489c85c843c1956885ab776ce71e": {
          "model_module": "@jupyter-widgets/base",
          "model_name": "LayoutModel",
          "model_module_version": "1.2.0",
          "state": {
            "_model_module": "@jupyter-widgets/base",
            "_model_module_version": "1.2.0",
            "_model_name": "LayoutModel",
            "_view_count": null,
            "_view_module": "@jupyter-widgets/base",
            "_view_module_version": "1.2.0",
            "_view_name": "LayoutView",
            "align_content": null,
            "align_items": null,
            "align_self": null,
            "border": null,
            "bottom": null,
            "display": null,
            "flex": null,
            "flex_flow": null,
            "grid_area": null,
            "grid_auto_columns": null,
            "grid_auto_flow": null,
            "grid_auto_rows": null,
            "grid_column": null,
            "grid_gap": null,
            "grid_row": null,
            "grid_template_areas": null,
            "grid_template_columns": null,
            "grid_template_rows": null,
            "height": null,
            "justify_content": null,
            "justify_items": null,
            "left": null,
            "margin": null,
            "max_height": null,
            "max_width": null,
            "min_height": null,
            "min_width": null,
            "object_fit": null,
            "object_position": null,
            "order": null,
            "overflow": null,
            "overflow_x": null,
            "overflow_y": null,
            "padding": null,
            "right": null,
            "top": null,
            "visibility": null,
            "width": null
          }
        },
        "a73e4492037b4991bb5a1d76514e44f2": {
          "model_module": "@jupyter-widgets/controls",
          "model_name": "DescriptionStyleModel",
          "model_module_version": "1.5.0",
          "state": {
            "_model_module": "@jupyter-widgets/controls",
            "_model_module_version": "1.5.0",
            "_model_name": "DescriptionStyleModel",
            "_view_count": null,
            "_view_module": "@jupyter-widgets/base",
            "_view_module_version": "1.2.0",
            "_view_name": "StyleView",
            "description_width": ""
          }
        }
      }
    }
  },
  "cells": [
    {
      "cell_type": "markdown",
      "metadata": {
        "id": "view-in-github",
        "colab_type": "text"
      },
      "source": [
        "<a href=\"https://colab.research.google.com/github/elreweidy/Pneumonia_classification/blob/main/Pneumonia_classification_PyTorch.ipynb\" target=\"_parent\"><img src=\"https://colab.research.google.com/assets/colab-badge.svg\" alt=\"Open In Colab\"/></a>"
      ]
    },
    {
      "cell_type": "code",
      "source": [
        "import os \n",
        "import cv2 \n",
        "import time \n",
        "import copy\n",
        "\n",
        "import pandas as pd\n",
        "import torch \n",
        "import torch.nn as nn \n",
        "import torchvision\n",
        "import torchvision.transforms as transforms\n",
        "from torch.utils.data import DataLoader, ConcatDataset\n",
        "from torchvision.datasets import ImageFolder\n",
        "from torchvision.utils import make_grid\n",
        "from sklearn.model_selection import train_test_split\n",
        "import seaborn as sns \n",
        "import numpy as np \n",
        "import matplotlib.pyplot as plt \n",
        "import torch.nn.functional as F\n",
        "\n",
        "device = torch.device('cuda:0' if torch.cuda.is_available() else 'cpu')\n"
      ],
      "metadata": {
        "id": "hzvcIH-tdPqN"
      },
      "execution_count": 38,
      "outputs": []
    },
    {
      "cell_type": "code",
      "execution_count": 2,
      "metadata": {
        "colab": {
          "base_uri": "https://localhost:8080/"
        },
        "id": "Ei7rSpuYcIAW",
        "outputId": "624307c2-48f5-41d9-9ab0-4d3fcafa93c1"
      },
      "outputs": [
        {
          "output_type": "stream",
          "name": "stdout",
          "text": [
            "Looking in indexes: https://pypi.org/simple, https://us-python.pkg.dev/colab-wheels/public/simple/\n",
            "Requirement already satisfied: kaggle in /usr/local/lib/python3.8/dist-packages (1.5.12)\n",
            "Requirement already satisfied: requests in /usr/local/lib/python3.8/dist-packages (from kaggle) (2.23.0)\n",
            "Requirement already satisfied: tqdm in /usr/local/lib/python3.8/dist-packages (from kaggle) (4.64.1)\n",
            "Requirement already satisfied: python-dateutil in /usr/local/lib/python3.8/dist-packages (from kaggle) (2.8.2)\n",
            "Requirement already satisfied: certifi in /usr/local/lib/python3.8/dist-packages (from kaggle) (2022.9.24)\n",
            "Requirement already satisfied: urllib3 in /usr/local/lib/python3.8/dist-packages (from kaggle) (1.24.3)\n",
            "Requirement already satisfied: python-slugify in /usr/local/lib/python3.8/dist-packages (from kaggle) (7.0.0)\n",
            "Requirement already satisfied: six>=1.10 in /usr/local/lib/python3.8/dist-packages (from kaggle) (1.15.0)\n",
            "Requirement already satisfied: text-unidecode>=1.3 in /usr/local/lib/python3.8/dist-packages (from python-slugify->kaggle) (1.3)\n",
            "Requirement already satisfied: idna<3,>=2.5 in /usr/local/lib/python3.8/dist-packages (from requests->kaggle) (2.10)\n",
            "Requirement already satisfied: chardet<4,>=3.0.2 in /usr/local/lib/python3.8/dist-packages (from requests->kaggle) (3.0.4)\n"
          ]
        }
      ],
      "source": [
        "!pip install kaggle"
      ]
    },
    {
      "cell_type": "code",
      "source": [
        "from google.colab import drive\n",
        "drive.mount(\"/content/drive\")"
      ],
      "metadata": {
        "colab": {
          "base_uri": "https://localhost:8080/"
        },
        "id": "MhIy9FAncPbi",
        "outputId": "1ca6658f-b84e-4f90-8211-399fc2c48fe7"
      },
      "execution_count": 3,
      "outputs": [
        {
          "output_type": "stream",
          "name": "stdout",
          "text": [
            "Mounted at /content/drive\n"
          ]
        }
      ]
    },
    {
      "cell_type": "code",
      "source": [
        "! mkdir ~/.kaggle"
      ],
      "metadata": {
        "id": "BR5AawQwcRC6"
      },
      "execution_count": 4,
      "outputs": []
    },
    {
      "cell_type": "code",
      "source": [
        "!cp /content/drive/MyDrive/kaggle_api_credentials/kaggle.json ~/.kaggle/kaggle.json"
      ],
      "metadata": {
        "id": "ZBEcmWlkcSuN"
      },
      "execution_count": 5,
      "outputs": []
    },
    {
      "cell_type": "code",
      "source": [
        "! chmod 600 ~/.kaggle/kaggle.json"
      ],
      "metadata": {
        "id": "R1H2nf3scU0K"
      },
      "execution_count": 6,
      "outputs": []
    },
    {
      "cell_type": "code",
      "source": [
        "!kaggle datasets download paultimothymooney/chest-xray-pneumonia"
      ],
      "metadata": {
        "colab": {
          "base_uri": "https://localhost:8080/"
        },
        "id": "54uSezkPcWzj",
        "outputId": "b857af55-f60a-488f-eb15-022572173d97"
      },
      "execution_count": 7,
      "outputs": [
        {
          "output_type": "stream",
          "name": "stdout",
          "text": [
            "Downloading chest-xray-pneumonia.zip to /content\n",
            "100% 2.29G/2.29G [01:46<00:00, 24.5MB/s]\n",
            "100% 2.29G/2.29G [01:46<00:00, 23.2MB/s]\n"
          ]
        }
      ]
    },
    {
      "cell_type": "code",
      "source": [
        "! unzip chest-xray-pneumonia.zip"
      ],
      "metadata": {
        "id": "h26rEAfRcYLq"
      },
      "execution_count": null,
      "outputs": []
    },
    {
      "cell_type": "code",
      "source": [
        "# labels = ['PNEUMONIA', 'NORMAL']\n",
        "# img_size = 150\n",
        "# def get_training_data(data_dir):\n",
        "#     data = [] \n",
        "#     for label in labels: \n",
        "#         path = os.path.join(data_dir, label)\n",
        "#         class_num = labels.index(label)\n",
        "#         for img in os.listdir(path):\n",
        "#             try:\n",
        "#                 img_arr = cv2.imread(os.path.join(path, img), cv2.IMREAD_GRAYSCALE)\n",
        "#                 resized_arr = cv2.resize(img_arr, (img_size, img_size)) # Reshaping images to preferred size\n",
        "#                 data.append([resized_arr, class_num])\n",
        "#             except Exception as e:\n",
        "#                 print(e)\n",
        "#     return np.array(data)"
      ],
      "metadata": {
        "id": "JJSa4yT1cdqb"
      },
      "execution_count": 9,
      "outputs": []
    },
    {
      "cell_type": "code",
      "source": [
        "train = 'chest_xray/train'\n",
        "val = 'chest_xray/val'\n",
        "test = 'chest_xray/test'"
      ],
      "metadata": {
        "id": "gACmt7kWcflL"
      },
      "execution_count": 11,
      "outputs": []
    },
    {
      "cell_type": "code",
      "source": [
        "l = []\n",
        "for i in train:\n",
        "    if(i[1] == 0):\n",
        "        l.append(\"Pneumonia\")\n",
        "    else:\n",
        "        l.append(\"Normal\")\n",
        "sns.set_style('darkgrid')\n",
        "sns.countplot(l) "
      ],
      "metadata": {
        "colab": {
          "base_uri": "https://localhost:8080/",
          "height": 235
        },
        "id": "_IvC09ifchCS",
        "outputId": "b2afcb43-bc8f-4aee-c004-99c2004d24c1"
      },
      "execution_count": 12,
      "outputs": [
        {
          "output_type": "error",
          "ename": "IndexError",
          "evalue": "ignored",
          "traceback": [
            "\u001b[0;31m---------------------------------------------------------------------------\u001b[0m",
            "\u001b[0;31mIndexError\u001b[0m                                Traceback (most recent call last)",
            "\u001b[0;32m<ipython-input-12-142ce2c3efca>\u001b[0m in \u001b[0;36m<module>\u001b[0;34m\u001b[0m\n\u001b[1;32m      1\u001b[0m \u001b[0ml\u001b[0m \u001b[0;34m=\u001b[0m \u001b[0;34m[\u001b[0m\u001b[0;34m]\u001b[0m\u001b[0;34m\u001b[0m\u001b[0;34m\u001b[0m\u001b[0m\n\u001b[1;32m      2\u001b[0m \u001b[0;32mfor\u001b[0m \u001b[0mi\u001b[0m \u001b[0;32min\u001b[0m \u001b[0mtrain\u001b[0m\u001b[0;34m:\u001b[0m\u001b[0;34m\u001b[0m\u001b[0;34m\u001b[0m\u001b[0m\n\u001b[0;32m----> 3\u001b[0;31m     \u001b[0;32mif\u001b[0m\u001b[0;34m(\u001b[0m\u001b[0mi\u001b[0m\u001b[0;34m[\u001b[0m\u001b[0;36m1\u001b[0m\u001b[0;34m]\u001b[0m \u001b[0;34m==\u001b[0m \u001b[0;36m0\u001b[0m\u001b[0;34m)\u001b[0m\u001b[0;34m:\u001b[0m\u001b[0;34m\u001b[0m\u001b[0;34m\u001b[0m\u001b[0m\n\u001b[0m\u001b[1;32m      4\u001b[0m         \u001b[0ml\u001b[0m\u001b[0;34m.\u001b[0m\u001b[0mappend\u001b[0m\u001b[0;34m(\u001b[0m\u001b[0;34m\"Pneumonia\"\u001b[0m\u001b[0;34m)\u001b[0m\u001b[0;34m\u001b[0m\u001b[0;34m\u001b[0m\u001b[0m\n\u001b[1;32m      5\u001b[0m     \u001b[0;32melse\u001b[0m\u001b[0;34m:\u001b[0m\u001b[0;34m\u001b[0m\u001b[0;34m\u001b[0m\u001b[0m\n",
            "\u001b[0;31mIndexError\u001b[0m: string index out of range"
          ]
        }
      ]
    },
    {
      "cell_type": "code",
      "source": [
        "transformers = {\n",
        "    'dataset1': transforms.Compose([\n",
        "        transforms.Resize((128, 128)),\n",
        "        transforms.ColorJitter(brightness=0.5),\n",
        "        transforms.CenterCrop(224),\n",
        "        transforms.RandomHorizontalFlip(p=0.5),\n",
        "        transforms.RandomVerticalFlip(p=0.5),\n",
        "        transforms.RandomGrayscale(),\n",
        "        transforms.RandomAffine(translate=(0.05,0.05), degrees=0),\n",
        "        transforms.ToTensor(),\n",
        "\n",
        "    ]),\n",
        "    \n",
        "    'dataset2' : transforms.Compose([\n",
        "        transforms.Resize((128, 128)),\n",
        "        transforms.ColorJitter(brightness=0.5),\n",
        "        transforms.CenterCrop(224),\n",
        "        transforms.RandomHorizontalFlip(p=0.5),\n",
        "        transforms.RandomVerticalFlip(p=0.5),\n",
        "        transforms.RandomGrayscale(),\n",
        "        transforms.RandomAffine(translate=(0.05,0.05), degrees=0),\n",
        "        transforms.ToTensor(),\n",
        "                                    \n",
        "    ]),\n",
        "\n",
        "     'dataset3' : transforms.Compose([\n",
        "        transforms.Resize((128, 128)),\n",
        "        transforms.ColorJitter(brightness=0.5),\n",
        "        transforms.CenterCrop(224),\n",
        "        transforms.RandomHorizontalFlip(p=0.5),\n",
        "        transforms.RandomVerticalFlip(p=0.5),\n",
        "        transforms.RandomGrayscale(),\n",
        "        transforms.RandomAffine(translate=(0.05,0.05), degrees=0),\n",
        "        transforms.ToTensor(),\n",
        "\n",
        "     ]),\n",
        "                }"
      ],
      "metadata": {
        "id": "84FtC_zBOILc"
      },
      "execution_count": 13,
      "outputs": []
    },
    {
      "cell_type": "code",
      "source": [
        "train_path = 'chest_xray/train'\n",
        "dataset1 = ImageFolder(train_path, \n",
        "                      transform=transformers['dataset1'])\n",
        "\n",
        "dataset2 = ImageFolder(train_path, \n",
        "                      transform=transformers['dataset2'])\n",
        "\n",
        "dataset3 = ImageFolder(train_path, \n",
        "                      transform=transformers['dataset3'])\n",
        "\n",
        "norm1, _ = train_test_split(dataset2, test_size= 3875/(1341+3875), shuffle=False)\n",
        "norm2, _ = train_test_split(dataset3, test_size= 4023/(1341+3875), shuffle=False)\n",
        "\n"
      ],
      "metadata": {
        "id": "v2Eh222rxIiV"
      },
      "execution_count": 14,
      "outputs": []
    },
    {
      "cell_type": "code",
      "source": [
        "dataset = ConcatDataset([dataset1, norm1, norm2])\n",
        "\n",
        "len(dataset)"
      ],
      "metadata": {
        "colab": {
          "base_uri": "https://localhost:8080/"
        },
        "id": "vtLKHoy72ZeA",
        "outputId": "261a9c32-1c69-4f59-8f1a-64d03421bf04"
      },
      "execution_count": 15,
      "outputs": [
        {
          "output_type": "execute_result",
          "data": {
            "text/plain": [
              "7750"
            ]
          },
          "metadata": {},
          "execution_count": 15
        }
      ]
    },
    {
      "cell_type": "code",
      "source": [
        "random_seed = 42\n",
        "torch.manual_seed(random_seed);"
      ],
      "metadata": {
        "id": "wcPipzWN2dtO"
      },
      "execution_count": 16,
      "outputs": []
    },
    {
      "cell_type": "code",
      "source": [
        "train_ds, val_ds = train_test_split(dataset, test_size=0.3, random_state=random_seed)\n",
        "len(train_ds), len(val_ds)"
      ],
      "metadata": {
        "colab": {
          "base_uri": "https://localhost:8080/"
        },
        "id": "-_uvUjPJ27hm",
        "outputId": "4029c1ab-e9f6-4ffe-f871-9ab941a085d2"
      },
      "execution_count": 17,
      "outputs": [
        {
          "output_type": "execute_result",
          "data": {
            "text/plain": [
              "(5425, 2325)"
            ]
          },
          "metadata": {},
          "execution_count": 17
        }
      ]
    },
    {
      "cell_type": "code",
      "source": [
        "batch_size=64\n",
        "\n",
        "train_dl = DataLoader(train_ds, batch_size, shuffle=True, num_workers=4, pin_memory=True)\n",
        "val_dl = DataLoader(val_ds, batch_size*2, num_workers=4, pin_memory=True)\n",
        "loaders = {'train':train_dl, 'val':val_dl}\n",
        "dataset_sizes = {'train':len(train_ds), 'val':len(val_ds)}"
      ],
      "metadata": {
        "colab": {
          "base_uri": "https://localhost:8080/"
        },
        "id": "uqImvTc33PVO",
        "outputId": "e223ac3f-9d5a-46ff-decb-210fb2d9993e"
      },
      "execution_count": 18,
      "outputs": [
        {
          "output_type": "stream",
          "name": "stderr",
          "text": [
            "/usr/local/lib/python3.8/dist-packages/torch/utils/data/dataloader.py:563: UserWarning: This DataLoader will create 4 worker processes in total. Our suggested max number of worker in current system is 2, which is smaller than what this DataLoader is going to create. Please be aware that excessive worker creation might get DataLoader running slow or even freeze, lower the worker number to avoid potential slowness/freeze if necessary.\n",
            "  warnings.warn(_create_warning_msg(\n"
          ]
        }
      ]
    },
    {
      "cell_type": "markdown",
      "source": [
        "we can visualize the whole batch with this function."
      ],
      "metadata": {
        "id": "GtuSnH4N3kj3"
      }
    },
    {
      "cell_type": "code",
      "source": [
        "def show_batch(dl):\n",
        "    for images, labels in dl:\n",
        "        fig, ax = plt.subplots(figsize=(12, 12))\n",
        "        ax.set_xticks([]); ax.set_yticks([])\n",
        "        ax.imshow(make_grid(images[:batch_size], nrow=10).permute(1, 2, 0))\n",
        "        break"
      ],
      "metadata": {
        "id": "VW5i63BM3j3A"
      },
      "execution_count": 18,
      "outputs": []
    },
    {
      "cell_type": "code",
      "source": [
        "show_batch(train_dl)"
      ],
      "metadata": {
        "colab": {
          "base_uri": "https://localhost:8080/",
          "height": 500
        },
        "id": "Ikr-6Jum3rM3",
        "outputId": "22ab69ac-edd7-459d-fb18-472fd4506f69"
      },
      "execution_count": 19,
      "outputs": [
        {
          "output_type": "display_data",
          "data": {
            "text/plain": [
              "<Figure size 864x864 with 1 Axes>"
            ],
            "image/png": "[encoded data removed]"
          },
          "metadata": {}
        }
      ]
    },
    {
      "cell_type": "code",
      "source": [
        "def accuracy(outputs, labels):\n",
        "    _, preds = torch.max(outputs, dim=1) \n",
        "    return torch.tensor(torch.sum(preds == labels).item() / len(preds)), preds"
      ],
      "metadata": {
        "id": "3PrF2PzL4GfP"
      },
      "execution_count": 19,
      "outputs": []
    },
    {
      "cell_type": "code",
      "source": [
        "model = torchvision.models.densenet161(pretrained=True)\n"
      ],
      "metadata": {
        "colab": {
          "base_uri": "https://localhost:8080/",
          "height": 156,
          "referenced_widgets": [
            "3b8d96113d1b4e0f8b0ed6185d756653",
            "99e6d0489af8437089493c60274ae47c",
            "39277512f9c04d3095225111759e05bc",
            "aec9ce03ca4344cda6bf2de6cf813a5b",
            "db2edd78ee174970bfa3d862f9d44eac",
            "63bcc1db394241c4bc11f720695324b8",
            "70999030b6324038bc849fbae0ed5f83",
            "a18abdaeabb348c885532f1ca58d5c13",
            "3a153198b680403b880bb80d6af5bee6",
            "ff68489c85c843c1956885ab776ce71e",
            "a73e4492037b4991bb5a1d76514e44f2"
          ]
        },
        "id": "MdktM8Ii4PeX",
        "outputId": "06ca8d1e-ff1c-4c74-bc64-43cee342cf3b"
      },
      "execution_count": 20,
      "outputs": [
        {
          "output_type": "stream",
          "name": "stderr",
          "text": [
            "/usr/local/lib/python3.8/dist-packages/torchvision/models/_utils.py:208: UserWarning: The parameter 'pretrained' is deprecated since 0.13 and will be removed in 0.15, please use 'weights' instead.\n",
            "  warnings.warn(\n",
            "/usr/local/lib/python3.8/dist-packages/torchvision/models/_utils.py:223: UserWarning: Arguments other than a weight enum or `None` for 'weights' are deprecated since 0.13 and will be removed in 0.15. The current behavior is equivalent to passing `weights=DenseNet161_Weights.IMAGENET1K_V1`. You can also use `weights=DenseNet161_Weights.DEFAULT` to get the most up-to-date weights.\n",
            "  warnings.warn(msg)\n",
            "Downloading: \"https://download.pytorch.org/models/densenet161-8d451a50.pth\" to /root/.cache/torch/hub/checkpoints/densenet161-8d451a50.pth\n"
          ]
        },
        {
          "output_type": "display_data",
          "data": {
            "text/plain": [
              "  0%|          | 0.00/110M [00:00<?, ?B/s]"
            ],
            "application/vnd.jupyter.widget-view+json": {
              "version_major": 2,
              "version_minor": 0,
              "model_id": "3b8d96113d1b4e0f8b0ed6185d756653"
            }
          },
          "metadata": {}
        }
      ]
    },
    {
      "cell_type": "code",
      "source": [
        "for param in model.parameters():\n",
        "    param.requires_grad = False\n",
        "    \n",
        "in_features = model.classifier.in_features\n",
        "\n",
        "model.classifier = nn.Linear(in_features, 2)"
      ],
      "metadata": {
        "id": "3PTBDDQQ5RO3"
      },
      "execution_count": 21,
      "outputs": []
    },
    {
      "cell_type": "code",
      "source": [
        "#save the losses for further visualization\n",
        "losses = {'train':[], 'val':[]}\n",
        "accuracies = {'train':[], 'val':[]}"
      ],
      "metadata": {
        "id": "zhG2W0Dh5XxP"
      },
      "execution_count": 22,
      "outputs": []
    },
    {
      "cell_type": "code",
      "source": [
        "def train(model, criterion, optimizer, scheduler, epochs):\n",
        "  since = time.time()\n",
        "  best_model = copy.deepcopy(model.state_dict())\n",
        "  best_acc = 0.0\n",
        "  for epoch in range(epochs):\n",
        "    for phase in ['train', 'val']:\n",
        "      if phase == 'train':\n",
        "        model.train()\n",
        "      else:\n",
        "        model.eval()\n",
        "      \n",
        "      running_loss = 0.0\n",
        "      running_corrects = 0.0\n",
        "\n",
        "      for inputs, labels in loaders[phase]:\n",
        "        inputs, labels = inputs.to(device), labels.to(device)\n",
        "\n",
        "        optimizer.zero_grad()\n",
        "\n",
        "        with torch.set_grad_enabled(phase=='train'):\n",
        "          outp = model(inputs)\n",
        "          _, pred = torch.max(outp, 1)\n",
        "          loss = criterion(outp, labels)\n",
        "        \n",
        "          if phase == 'train':\n",
        "            loss.backward()\n",
        "            optimizer.step()\n",
        "        \n",
        "        running_loss += loss.item()*inputs.size(0)\n",
        "        running_corrects += torch.sum(pred == labels.data)\n",
        "\n",
        "\n",
        "      epoch_loss = running_loss / dataset_sizes[phase]\n",
        "      epoch_acc = running_corrects.double()/dataset_sizes[phase]\n",
        "      losses[phase].append(epoch_loss)\n",
        "      accuracies[phase].append(epoch_acc)\n",
        "      if phase == 'train':\n",
        "        print('Epoch: {}/{}'.format(epoch+1, epochs))\n",
        "      print('{} - loss:{}, accuracy{}'.format(phase, epoch_loss, epoch_acc))\n",
        "    \n",
        "      if phase == 'val':\n",
        "        print('Time: {}m {}s'.format((time.time()- since)//60, (time.time()- since)%60))\n",
        "            \n",
        "      if phase == 'val' and epoch_acc > best_acc:\n",
        "        best_acc = epoch_acc\n",
        "        best_model = copy.deepcopy(model.state_dict())\n",
        "    scheduler.step()  \n",
        "  time_elapsed = time.time() - since\n",
        "  print('Training Time {}m {}s'.format(time_elapsed//60, time_elapsed%60)) \n",
        "  print('Best accuracy {}'.format(best_acc))\n",
        "\n",
        "  model.load_state_dict(best_model)\n",
        "  return model   "
      ],
      "metadata": {
        "id": "YK06ZdE95ape"
      },
      "execution_count": 23,
      "outputs": []
    },
    {
      "cell_type": "code",
      "source": [
        "criterion = nn.CrossEntropyLoss()\n",
        "optimizer = torch.optim.Adam(model.classifier.parameters(), lr = 0.001)\n",
        "scheduler = torch.optim.lr_scheduler.StepLR(optimizer, 4, gamma=0.1)"
      ],
      "metadata": {
        "id": "OV_G9xrM5wkZ"
      },
      "execution_count": 24,
      "outputs": []
    },
    {
      "cell_type": "code",
      "source": [
        "model.to(device)\n",
        "epochs = 10\n",
        "model = train(model, criterion, optimizer, scheduler, epochs)"
      ],
      "metadata": {
        "colab": {
          "base_uri": "https://localhost:8080/"
        },
        "id": "zMLz44Fk5ypu",
        "outputId": "cfedcb9c-bb00-41ea-8f0d-5fb00b2d38d5"
      },
      "execution_count": 25,
      "outputs": [
        {
          "output_type": "stream",
          "name": "stdout",
          "text": [
            "Epoch: 1/10\n",
            "train - loss:0.2991897897456648, accuracy0.8930875576036866\n",
            "val - loss:0.17904640842509525, accuracy0.9432258064516129\n",
            "Time: 1.0m 0.8683960437774658s\n",
            "Epoch: 2/10\n",
            "train - loss:0.17952974120318066, accuracy0.9380645161290323\n",
            "val - loss:0.1461910073218807, accuracy0.9518279569892473\n",
            "Time: 1.0m 54.337159395217896s\n",
            "Epoch: 3/10\n",
            "train - loss:0.16132020340537145, accuracy0.9419354838709677\n",
            "val - loss:0.13420392750411905, accuracy0.9556989247311828\n",
            "Time: 2.0m 48.969016790390015s\n",
            "Epoch: 4/10\n",
            "train - loss:0.14456476068853782, accuracy0.9482027649769585\n",
            "val - loss:0.12367281275410806, accuracy0.9595698924731183\n",
            "Time: 3.0m 42.896801710128784s\n",
            "Epoch: 5/10\n",
            "train - loss:0.13479354298746532, accuracy0.9539170506912442\n",
            "val - loss:0.12302647579100824, accuracy0.9574193548387097\n",
            "Time: 4.0m 37.13702321052551s\n",
            "Epoch: 6/10\n",
            "train - loss:0.1305236866891659, accuracy0.9564976958525345\n",
            "val - loss:0.1222749561391851, accuracy0.9608602150537634\n",
            "Time: 5.0m 31.052896738052368s\n",
            "Epoch: 7/10\n",
            "train - loss:0.13150308111021597, accuracy0.9537327188940092\n",
            "val - loss:0.12177148113968551, accuracy0.9574193548387097\n",
            "Time: 6.0m 25.080933332443237s\n",
            "Epoch: 8/10\n",
            "train - loss:0.13105562814781743, accuracy0.9529953917050691\n",
            "val - loss:0.12105364140643868, accuracy0.9582795698924731\n",
            "Time: 7.0m 19.04862356185913s\n",
            "Epoch: 9/10\n",
            "train - loss:0.12878093587912723, accuracy0.9550230414746543\n",
            "val - loss:0.12148132311400547, accuracy0.956989247311828\n",
            "Time: 8.0m 13.13136887550354s\n",
            "Epoch: 10/10\n",
            "train - loss:0.1316450003929402, accuracy0.9563133640552995\n",
            "val - loss:0.12038512617029169, accuracy0.96\n",
            "Time: 9.0m 7.251985311508179s\n",
            "Training Time 9.0m 7.253566741943359s\n",
            "Best accuracy 0.9608602150537634\n"
          ]
        }
      ]
    },
    {
      "cell_type": "code",
      "source": [
        "f, (ax1, ax2) = plt.subplots(1, 2, figsize=(12, 4))\n",
        "t = f.suptitle('Performance', fontsize=12)\n",
        "f.subplots_adjust(top=0.85, wspace=0.3)\n",
        "\n",
        "epoch_list = list(range(1,epochs*2+1))\n",
        "ax1.plot(epoch_list, accuracies['train'], label='Train Accuracy')\n",
        "ax1.plot(epoch_list, accuracies['val'], label='Validation Accuracy')\n",
        "ax1.set_xticks(np.arange(0, epochs*2+1, 5))\n",
        "ax1.set_ylabel('Accuracy Value')\n",
        "ax1.set_xlabel('Epoch')\n",
        "ax1.set_title('Accuracy')\n",
        "l1 = ax1.legend(loc=\"best\")\n",
        "\n",
        "ax2.plot(epoch_list, losses['train'], label='Train Loss')\n",
        "ax2.plot(epoch_list, losses['val'], label='Validation Loss')\n",
        "ax2.set_xticks(np.arange(0, epochs*2+1, 5))\n",
        "ax2.set_ylabel('Loss Value')\n",
        "ax2.set_xlabel('Epoch')\n",
        "ax2.set_title('Loss')\n",
        "l2 = ax2.legend(loc=\"best\")"
      ],
      "metadata": {
        "id": "b5fvCr_XkYvM"
      },
      "execution_count": null,
      "outputs": []
    },
    {
      "cell_type": "code",
      "source": [
        "path='chest_xray'\n",
        "test_samplesize = pd.DataFrame.from_dict(\n",
        "    {'Normal': [len([os.path.join(path+'/test/NORMAL', filename) \n",
        "                     for filename in os.listdir(path+'/test/NORMAL')])], \n",
        "     'Pneumonia': [len([os.path.join(path+'/test/PNEUMONIA', filename) \n",
        "                        for filename in os.listdir(path+'/test/PNEUMONIA')])]})\n",
        "\n",
        "sns.barplot(data=test_samplesize).set_title('Test Set Data Inbalance', fontsize=20)\n",
        "plt.show()"
      ],
      "metadata": {
        "colab": {
          "base_uri": "https://localhost:8080/",
          "height": 286
        },
        "id": "tzax6gGtkh6E",
        "outputId": "43cfdd03-6cd1-42c1-e8f3-a62e981e25fd"
      },
      "execution_count": 30,
      "outputs": [
        {
          "output_type": "display_data",
          "data": {
            "text/plain": [
              "<Figure size 432x288 with 1 Axes>"
            ],
            "image/png": "[encoded data removed]"
          },
          "metadata": {
            "needs_background": "light"
          }
        }
      ]
    },
    {
      "cell_type": "code",
      "source": [
        "def validation_step(batch):\n",
        "        images,labels = batch\n",
        "        images,labels = images.to(device),labels.to(device)\n",
        "        out = model(images)                                      \n",
        "        loss = F.cross_entropy(out, labels)                    \n",
        "        acc,preds = accuracy(out, labels)                       \n",
        "        \n",
        "        return {'val_loss': loss.detach(), 'val_acc':acc.detach(), \n",
        "                'preds':preds.detach(), 'labels':labels.detach()}"
      ],
      "metadata": {
        "id": "rWPgELd6lQX9"
      },
      "execution_count": 31,
      "outputs": []
    },
    {
      "cell_type": "code",
      "source": [
        "def test_prediction(outputs):\n",
        "        batch_losses = [x['val_loss'] for x in outputs]\n",
        "        epoch_loss = torch.stack(batch_losses).mean()           \n",
        "        batch_accs = [x['val_acc'] for x in outputs]\n",
        "        epoch_acc = torch.stack(batch_accs).mean()             \n",
        "        # combine predictions\n",
        "        batch_preds = [pred for x in outputs for pred in x['preds'].tolist()] \n",
        "        # combine labels\n",
        "        batch_labels = [lab for x in outputs for lab in x['labels'].tolist()]  \n",
        "        \n",
        "        return {'test_loss': epoch_loss.item(), 'test_acc': epoch_acc.item(),\n",
        "                'test_preds': batch_preds, 'test_labels': batch_labels}  "
      ],
      "metadata": {
        "id": "xGM-8opwlX-k"
      },
      "execution_count": 32,
      "outputs": []
    },
    {
      "cell_type": "code",
      "source": [
        "@torch.no_grad()\n",
        "def test_predict(model, test_loader):\n",
        "    model.eval()\n",
        "    # perform testing for each batch\n",
        "    outputs = [validation_step(batch) for batch in test_loader] \n",
        "    results = test_prediction(outputs)                          \n",
        "    print('test_loss: {:.4f}, test_acc: {:.4f}'\n",
        "          .format(results['test_loss'], results['test_acc']))\n",
        "    \n",
        "    return results['test_preds'], results['test_labels']"
      ],
      "metadata": {
        "id": "9tO0gBp-laT9"
      },
      "execution_count": 33,
      "outputs": []
    },
    {
      "cell_type": "code",
      "source": [
        "testset = ImageFolder(path+'/test', \n",
        "                           transform=transforms.Compose([transforms.Resize(255),\n",
        "                                                 transforms.CenterCrop(224),                                                              \n",
        "                                                 transforms.ToTensor(),\n",
        "                                                ]))"
      ],
      "metadata": {
        "id": "6RU4n4_1leAs"
      },
      "execution_count": 36,
      "outputs": []
    },
    {
      "cell_type": "code",
      "source": [
        "test_dl = DataLoader(testset, batch_size=256)\n",
        "model.to(device)\n",
        "preds,labels = test_predict(model, test_dl)"
      ],
      "metadata": {
        "id": "TuNBArYvllXu"
      },
      "execution_count": null,
      "outputs": []
    }
  ]
}